{
 "cells": [
  {
   "cell_type": "markdown",
   "id": "dd11b4f9",
   "metadata": {},
   "source": [
    "## Introduction\n",
    "This project aims to extract subway route data from OpenStreetMap using the Overpass API and visualize the network. By building a graph of subway stations and routes, we can analyze and display the subway network of major cities like Berlin. The main tools we use are:\n",
    "\n",
    "- **Python**: The programming language used.\n",
    "- **Overpass API**: To query OpenStreetMap data.\n",
    "- **NetworkX**: For creating and analyzing graphs.\n",
    "- **Folium**: For interactive map visualizations.\n",
    "\n",
    "The goal is to represent subway routes visually and make sense of the transportation structure.\n"
   ]
  },
  {
   "cell_type": "markdown",
   "id": "a1ac9c45",
   "metadata": {},
   "source": [
    "## Importing Libraries\n",
    "We start by importing the necessary libraries for making API requests, handling JSON data, creating graphs, and visualizing the map.\n"
   ]
  },
  {
   "cell_type": "code",
   "execution_count": 1,
   "id": "88aa4920",
   "metadata": {},
   "outputs": [],
   "source": [
    "import requests\n",
    "import networkx as nx\n",
    "import matplotlib.pyplot as plt\n",
    "import folium\n",
    "\n",
    "from IPython.display import IFrame"
   ]
  },
  {
   "cell_type": "markdown",
   "id": "dfa03db4",
   "metadata": {},
   "source": [
    "## Data Extraction Functions\n",
    "In this section, we define helper functions to interact with the Overpass API and extract relevant data. These functions will help retrieve subway routes and station data from OpenStreetMap.\n",
    "\n",
    "- `extract_osm_geodata(query)`: Sends a query to the Overpass API and retrieves subway data in JSON format.\n",
    "- `extract_route_elements(osm_data)`: Extracts subway route data from the API response.\n",
    "- `extract_node_elements(osm_data)`: Extracts station data from the API response.\n"
   ]
  },
  {
   "cell_type": "code",
   "execution_count": 2,
   "id": "562d8ab3",
   "metadata": {},
   "outputs": [],
   "source": [
    "def extract_osm_geodata(query):\n",
    "    \"\"\"\n",
    "    Extracts geodata from OpenStreatMap using the Overpass API.\n",
    "\n",
    "    :parameters:\n",
    "    query (str): The Overpass API query strting to execute.\n",
    "\n",
    "    :returns\n",
    "    dict: GeoJSON data retrived by the query.\n",
    "\n",
    "    \"\"\"\n",
    "\n",
    "    # Define the Overpass API URL\n",
    "    overpass_url = \"https://lz4.overpass-api.de/api/interpreter\"\n",
    "\n",
    "    # Define the parameter for the GET request\n",
    "    params = {'data': query}\n",
    "\n",
    "    # Send a GET request to the Overpass API with the query\n",
    "    response = requests.get(overpass_url, params =params)\n",
    "\n",
    "    # Check if the request was succesful\n",
    "    if response.status_code == 200:\n",
    "        return response.json()\n",
    "    else:\n",
    "        response.raise_for_status()\n",
    "\n",
    "def extract_route_elements(osm_data):\n",
    "    \"\"\"\n",
    "    Extracts route elements from the OpenStreetMap data response.\n",
    "\n",
    "    Parameters:\n",
    "    osm_data (dict): The JSON response data from the Overpass API.\n",
    "\n",
    "    Returns:\n",
    "    list: A list of route elements containing 'tags' with 'route' information.\n",
    "    \"\"\"\n",
    "\n",
    "    route_elements = [element for element in osm_data['elements'] if 'tags' in element and 'route' in element['tags']]\n",
    "    return route_elements\n",
    "\n",
    "def extract_node_elements(osm_data):\n",
    "    \"\"\"\n",
    "    Extracts node elements from the OpenStreetMap data response.\n",
    "    Parameters:\n",
    "    osm_data (dict): The JSON response data from the Overpass API.\n",
    "    Returns:\n",
    "    dict: A dictionary where the keys are node IDs and the values are the corresponding node elements.\n",
    "    node_elements = {element['id']: element for element in osm_data['elements'] if element['type'] == 'node'}\n",
    "    \"\"\"\n",
    "    node_elements = {element['id']: element for element in osm_data['elements'] if element['type'] == 'node'}\n",
    "    return node_elements"
   ]
  },
  {
   "cell_type": "markdown",
   "id": "0026ced2",
   "metadata": {},
   "source": [
    "## Creating the Subway Route Graph\n",
    "Using the extracted subway data, we now create a graph where stations are nodes, and subway routes between stations are edges. This graph representation helps us analyze the structure and connectivity of the subway system.\n",
    "\n",
    "- `create_route_graph(route_elements, node_elements)`: This function constructs the graph using subway stations and routes.\n"
   ]
  },
  {
   "cell_type": "code",
   "execution_count": 3,
   "id": "2012ec10",
   "metadata": {},
   "outputs": [],
   "source": [
    "\n",
    "def create_route_graph(route_elements, node_elements):\n",
    "    \"\"\"\n",
    "    Creates a graph of routes with stop nodes and edges between consecutive stops.\n",
    "\n",
    "    Parameters:\n",
    "    route_elements (list): A list of route elements containing 'members' and 'tags'.\n",
    "    node_elements (dict): A dictionary of node elements with their IDs as keys.\n",
    "\n",
    "    Returns:\n",
    "    nx.Graph: A NetworkX graph object representing the routes and stop nodes.\n",
    "    \"\"\"\n",
    "\n",
    "    # Create a graph object\n",
    "    G = nx.Graph()\n",
    "\n",
    "    for route in route_elements:\n",
    "        stop_nodes = [member for member in route['members'] if 'stop' in member['role']]\n",
    "\n",
    "        # Add nodes to the graph\n",
    "        for node in stop_nodes:\n",
    "            ref = node['ref']\n",
    "            if ref in node_elements:\n",
    "                node_data = node_elements[ref]\n",
    "                name = node_data['tags'].get('name', str(ref))\n",
    "                colour = route['tags'].get('colour', '#808080')  # Default gray color if no color is defined\n",
    "\n",
    "                G.add_node(ref, pos=(node_data['lon'], node_data['lat']), name=name, colour=colour)\n",
    "\n",
    "        # Add edges between consecutive stop nodes\n",
    "        for i in range(len(stop_nodes) - 1):\n",
    "            G.add_edge(stop_nodes[i]['ref'], stop_nodes[i + 1]['ref'])\n",
    "    return G"
   ]
  },
  {
   "cell_type": "markdown",
   "id": "6621726e",
   "metadata": {},
   "source": [
    "## Visualizing the Graph with NetworkX\n",
    "Here, we visualize the subway route graph using NetworkX. This visualization displays the stations and the routes connecting them. Each station is represented as a node, and the routes are edges.\n"
   ]
  },
  {
   "cell_type": "code",
   "execution_count": 4,
   "id": "33135072",
   "metadata": {},
   "outputs": [],
   "source": [
    "def visualize_graph(G, title):\n",
    "    \"\"\"\n",
    "     Visualizes the graph with nodes and edges.\n",
    "\n",
    "     Parameters:\n",
    "     G (nx.Graph): A NetworkX graph object representing the routes and stop nodes.\n",
    "\n",
    "    Returns:\n",
    "    None: Displays a plot of the graph.\n",
    "    \"\"\"\n",
    "    # Set the plot size\n",
    "    plt.figure(figsize=(15, 8))  # Adjust the width and height as needed\n",
    "\n",
    "    # Draw the graph with nodes and edges\n",
    "    pos = nx.get_node_attributes(G, 'pos')\n",
    "    node_labels = nx.get_node_attributes(G, 'name')\n",
    "    node_colours = list(nx.get_node_attributes(G, 'colour').values())\n",
    "    nx.draw(G, pos, with_labels=True, labels=node_labels, node_size=100, node_color=node_colours, font_size=8)\n",
    "    nx.draw_networkx_edges(G, pos, edge_color='gray', alpha=0.7)\n",
    "    plt.title(title)\n",
    "    plt.show()"
   ]
  },
  {
   "cell_type": "markdown",
   "id": "6874aa5c",
   "metadata": {},
   "source": [
    "## Visualizing the Subway Routes with Folium\n",
    "To make the subway routes more intuitive, we plot them on an interactive map using Folium. This map allows us to see the geographical layout of the stations and their connections, offering a spatial perspective on the subway network.\n"
   ]
  },
  {
   "cell_type": "code",
   "execution_count": 11,
   "id": "6a236d86",
   "metadata": {},
   "outputs": [],
   "source": [
    "\n",
    "def create_folium_map(G, zoom_start=12):\n",
    "    \"\"\"\n",
    "    Function to create a Folium map from a NetworkX graph with 'pos' attributes (longitude, latitude),\n",
    "    and show tooltips with node names on hover.\n",
    "\n",
    "    Parameters:\n",
    "    G: NetworkX graph where nodes have 'pos' attributes with (longitude, latitude).\n",
    "    zoom_start: Initial zoom level for the map.\n",
    "\n",
    "    Returns:\n",
    "    folium.Map object.\n",
    "    \"\"\"\n",
    "    # Get the positions and labels of nodes\n",
    "    positions = nx.get_node_attributes(G, 'pos')  # Get 'pos' attribute (lon, lat)\n",
    "    node_labels = nx.get_node_attributes(G, 'name')  # Get node labels (names)\n",
    "    node_colors = nx.get_node_attributes(G, 'colour')  # Get node colors\n",
    "\n",
    "    if not positions:\n",
    "        raise ValueError(\"Graph nodes must contain a 'pos' attribute with (longitude, latitude).\")\n",
    "\n",
    "    # Split 'pos' into lists of longitudes and latitudes\n",
    "    latitudes = [pos[1] for pos in positions.values()]  # Extract latitudes\n",
    "    longitudes = [pos[0] for pos in positions.values()]  # Extract longitudes\n",
    "\n",
    "    center_lat = sum(latitudes) / len(latitudes)\n",
    "    center_lon = sum(longitudes) / len(longitudes)\n",
    "\n",
    "    # Create the Folium map centered on the calculated average coordinates\n",
    "    folium_map = folium.Map(location=[center_lat, center_lon], zoom_start=zoom_start)\n",
    "\n",
    "    # Add markers for each node in the graph with a tooltip showing the node name\n",
    "    for node, pos in positions.items():\n",
    "        node_name = node_labels.get(node, f\"Node {node}\")  # Default to \"Node {node}\" if no name\n",
    "        color = node_colors.get(node, 'blue')\n",
    "        folium.CircleMarker(\n",
    "            location=[pos[1], pos[0]],  # (lat, lon)\n",
    "            radius=3,  # Circle size\n",
    "            color=color,  # Circle border color\n",
    "            fill=True,\n",
    "            fill_color=color,  # Circle fill color\n",
    "            fill_opacity=0.7,  # Circle transparency\n",
    "            tooltip=node_name  # Show node name when hovering\n",
    "        ).add_to(folium_map)\n",
    "\n",
    "        # Define a function to get color based on the line's nodes\n",
    "\n",
    "    def get_edge_color(u, v):\n",
    "        # Use color of the start node as color for the edge, or default to 'grey'\n",
    "        color_u = node_colors.get(u, 'grey')\n",
    "        color_v = node_colors.get(v, 'grey')\n",
    "        # Return a color if available, otherwise grey\n",
    "        return color_u if color_u == color_v else 'grey'\n",
    "\n",
    "\n",
    "\n",
    "    # Add edges to the map as lines connecting nodes\n",
    "    for u, v in G.edges():\n",
    "        if u in positions and v in positions:\n",
    "            color = get_edge_color(u, v)\n",
    "            folium.PolyLine(\n",
    "                locations=[(positions[u][1], positions[u][0]),  # (lat, lon) for node u\n",
    "                           (positions[v][1], positions[v][0])],  # (lat, lon) for node v\n",
    "                color=color, weight=2.5, opacity=1\n",
    "            ).add_to(folium_map)\n",
    "\n",
    "    return folium_map"
   ]
  },
  {
   "cell_type": "markdown",
   "id": "cbe98e3b",
   "metadata": {},
   "source": [
    "## Query to Extract Subway Data\n",
    "In this section, we construct an Overpass API query to extract subway routes in Berlin. The query is designed to fetch all relations tagged as route=subway within the Berlin area, using the OpenStreetMap data.\n",
    "\n",
    "We use the Overpass API to request the data and receive a JSON response that includes subway routes and associated nodes. The extracted data will be used in subsequent steps to build a graph of the subway network."
   ]
  },
  {
   "cell_type": "code",
   "execution_count": 6,
   "id": "3aaff642",
   "metadata": {},
   "outputs": [],
   "source": [
    "query = \"\"\"\n",
    "[out:json];\n",
    "area[name=\"Berlin\"]->.searchArea;\n",
    "relation[\"route\"~\"subway\"](area.searchArea);\n",
    "out meta;\n",
    ">;\n",
    "out body;\n",
    "\"\"\""
   ]
  },
  {
   "cell_type": "markdown",
   "id": "a98a3715",
   "metadata": {},
   "source": [
    "## Applying Functions to Extract and Process Subway Data\n",
    "Now that we have defined our query, we will apply the previously defined functions to extract, process, and build a graph from the subway data. We first use extract_osm_geodata() to retrieve the data, then extract route and node elements using the corresponding functions. Finally, we create a NetworkX graph to represent the subway routes and stops."
   ]
  },
  {
   "cell_type": "code",
   "execution_count": 7,
   "id": "3f519440",
   "metadata": {},
   "outputs": [],
   "source": [
    "# Extract subway data using the Overpass API\n",
    "subway_berlin_data = extract_osm_geodata(query)\n",
    "\n",
    "# Extract route and node elements\n",
    "route_elements = extract_route_elements(subway_berlin_data)\n",
    "node_elements = extract_node_elements(subway_berlin_data)\n",
    "\n",
    "# Create a graph of the subway network\n",
    "subway_berlin_G = create_route_graph(route_elements, node_elements)\n"
   ]
  },
  {
   "cell_type": "markdown",
   "id": "b2472e32",
   "metadata": {},
   "source": [
    "## Visualization of the Subway Network\n",
    "In this section, we will visualize the Berlin subway network. Using Folium, we can create an interactive map where subway stops are displayed, and edges represent the connections between them. Each line is represented with a unique color, and the nodes display the stop name when hovered over.\n",
    "\n",
    "We first visualize the network graphically using NetworkX and Matplotlib. Then, we generate an interactive map using Folium."
   ]
  },
  {
   "cell_type": "code",
   "execution_count": 10,
   "id": "8d371391",
   "metadata": {},
   "outputs": [
    {
     "data": {
      "text/html": [
       "\n",
       "        <iframe\n",
       "            width=\"800\"\n",
       "            height=\"600\"\n",
       "            src=\"subway_map.html\"\n",
       "            frameborder=\"0\"\n",
       "            allowfullscreen\n",
       "            \n",
       "        ></iframe>\n",
       "        "
      ],
      "text/plain": [
       "<IPython.lib.display.IFrame at 0x7f02b7f411f0>"
      ]
     },
     "execution_count": 10,
     "metadata": {},
     "output_type": "execute_result"
    }
   ],
   "source": [
    "# Visualize the graph with a Folium map\n",
    "map = create_folium_map(subway_berlin_G, zoom_start=12)\n",
    "#map.show_in_browser()\n",
    "\n",
    "# Save the map to an HTML file\n",
    "map.save('subway_map.html')\n",
    "\n",
    "# Display the map in the notebook\n",
    "IFrame('subway_map.html', width=800, height=600)"
   ]
  },
  {
   "cell_type": "markdown",
   "id": "2271b9f5",
   "metadata": {},
   "source": [
    "## Conclusion\n",
    "In this project, we successfully extracted subway route data from OpenStreetMap using the Overpass API and visualized it with both NetworkX and Folium. This process helps better understand the structure and connectivity of subway systems. Future work could involve expanding to other cities or incorporating additional types of public transit routes.\n"
   ]
  },
  {
   "cell_type": "code",
   "execution_count": null,
   "id": "e2854553",
   "metadata": {},
   "outputs": [],
   "source": []
  }
 ],
 "metadata": {
  "kernelspec": {
   "display_name": "Python 3 (ipykernel)",
   "language": "python",
   "name": "python3"
  },
  "language_info": {
   "codemirror_mode": {
    "name": "ipython",
    "version": 3
   },
   "file_extension": ".py",
   "mimetype": "text/x-python",
   "name": "python",
   "nbconvert_exporter": "python",
   "pygments_lexer": "ipython3",
   "version": "3.9.7"
  }
 },
 "nbformat": 4,
 "nbformat_minor": 5
}
